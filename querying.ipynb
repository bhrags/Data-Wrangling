{
 "cells": [
  {
   "cell_type": "code",
   "execution_count": 66,
   "metadata": {},
   "outputs": [],
   "source": [
    "import sqlite3\n",
    "import csv\n",
    "from pprint import pprint\n",
    "import pandas as pd\n",
    "import numpy as np\n",
    "from time import time\n",
    "\n",
    "sqlite_file = 'hydsample.db'\n",
    "\n",
    "conn = sqlite3.connect(sqlite_file)\n",
    "\n",
    "cur = conn.cursor()\n",
    "\n",
    "cur.execute('DROP TABLE IF EXISTS nodes')\n",
    "conn.commit()\n",
    "\n",
    "cur.execute('''\n",
    "    CREATE TABLE nodes(id INTEGER PRIMARY KEY NOT NULL,\n",
    "    lat REAL,\n",
    "    lon REAL,\n",
    "    user TEXT,\n",
    "    uid INTEGER,\n",
    "    version INTEGER,\n",
    "    changeset INTEGER,\n",
    "    timestamp TEXT)\n",
    "''')\n",
    "conn.commit()\n",
    "\n",
    "with open('nodes.csv','rb') as fin:\n",
    "    dr = csv.DictReader(fin)\n",
    "    to_db = [(i['id'], i['lat'],i['lon'], i['user'].decode(\"utf-8\"), i['uid'], i['version'], i['changeset'], i['timestamp']) for i in dr]\n",
    "    \n",
    "# insert data\n",
    "cur.executemany(\"INSERT INTO nodes(id, lat, lon, user, uid, version, changeset, timestamp) VALUES (?, ?, ?, ?, ?, ?, ?, ?);\", to_db)\n",
    "# commit the changes\n",
    "conn.commit()\n",
    "\n",
    "\n",
    "conn.close()"
   ]
  },
  {
   "cell_type": "code",
   "execution_count": 67,
   "metadata": {
    "collapsed": true
   },
   "outputs": [],
   "source": [
    "sqlite_file = 'hydsample.db'\n",
    "\n",
    "conn = sqlite3.connect(sqlite_file)\n",
    "\n",
    "cur = conn.cursor()\n",
    "\n",
    "cur.execute('DROP TABLE IF EXISTS ways')\n",
    "conn.commit()\n",
    "\n",
    "cur.execute('''\n",
    "    CREATE TABLE ways (\n",
    "    id INTEGER PRIMARY KEY NOT NULL,\n",
    "    user TEXT,\n",
    "    uid INTEGER,\n",
    "    version TEXT,\n",
    "    changeset INTEGER,\n",
    "    timestamp TEXT)\n",
    "''')\n",
    "conn.commit()\n",
    "\n",
    "with open('ways.csv','rb') as fin:\n",
    "    dr = csv.DictReader(fin) # comma is default delimiter\n",
    "    to_db = [(i['id'], i['user'].decode(\"utf-8\"), i['uid'], i['version'], i['changeset'], i['timestamp']) for i in dr]\n",
    "    \n",
    "# insert data\n",
    "cur.executemany(\"INSERT INTO ways(id, user, uid, version, changeset, timestamp) VALUES (?, ?, ?, ?, ?, ?);\", to_db)\n",
    "# commit the changes\n",
    "conn.commit()\n",
    "\n",
    "#cur.execute('SELECT * FROM ways')\n",
    "#all_rows = cur.fetchall()\n",
    "#print('1):')\n",
    "#pprint(all_rows)\n",
    "\n",
    "conn.close()"
   ]
  },
  {
   "cell_type": "code",
   "execution_count": 68,
   "metadata": {
    "collapsed": true
   },
   "outputs": [],
   "source": [
    "sqlite_file = 'hydsample.db'\n",
    "\n",
    "conn = sqlite3.connect(sqlite_file)\n",
    "\n",
    "cur = conn.cursor()\n",
    "\n",
    "cur.execute('DROP TABLE IF EXISTS ways_nodes')\n",
    "conn.commit()\n",
    "\n",
    "cur.execute('''\n",
    "    CREATE TABLE ways_nodes (\n",
    "    id INTEGER NOT NULL,\n",
    "    node_id INTEGER NOT NULL,\n",
    "    position INTEGER NOT NULL,\n",
    "    FOREIGN KEY (id) REFERENCES ways(id),\n",
    "    FOREIGN KEY (node_id) REFERENCES nodes(id))\n",
    "''')\n",
    "conn.commit()\n",
    "\n",
    "with open('ways_nodes.csv','rb') as fin:\n",
    "    dr = csv.DictReader(fin) # comma is default delimiter\n",
    "    to_db = [(i['id'], i['node_id'],i['position']) for i in dr]\n",
    "    \n",
    "# insert data\n",
    "cur.executemany(\"INSERT INTO ways_nodes(id, node_id, position) VALUES (?, ?, ?);\", to_db)\n",
    "# commit the changes\n",
    "conn.commit()\n",
    "\n",
    "#cur.execute('SELECT * FROM ways_nodes')\n",
    "#all_rows = cur.fetchall()\n",
    "#print('1):')\n",
    "#pprint(all_rows)\n",
    "\n",
    "conn.close()"
   ]
  },
  {
   "cell_type": "code",
   "execution_count": 76,
   "metadata": {
    "collapsed": true
   },
   "outputs": [],
   "source": [
    "sqlite_file = 'hydsample.db'\n",
    "\n",
    "conn = sqlite3.connect(sqlite_file)\n",
    "\n",
    "cur = conn.cursor()\n",
    "\n",
    "cur.execute('DROP TABLE IF EXISTS ways_tags')\n",
    "conn.commit()\n",
    "\n",
    "cur.execute('''\n",
    "    CREATE TABLE ways_tags (\n",
    "    id INTEGER NOT NULL,\n",
    "    key TEXT NOT NULL,\n",
    "    value TEXT NOT NULL,\n",
    "    type TEXT,\n",
    "    FOREIGN KEY (id) REFERENCES ways(id))\n",
    "''')\n",
    "conn.commit()\n",
    "\n",
    "with open('ways_tags.csv','rb') as fin:\n",
    "    dr = csv.DictReader(fin) # comma is default delimiter\n",
    "    to_db = [(i['id'], i['key'],i['value'].decode(\"utf-8\"), i['type']) for i in dr]\n",
    "    \n",
    "# insert data\n",
    "cur.executemany(\"INSERT INTO ways_tags(id, key, value, type) VALUES (?, ?, ?, ?);\", to_db)\n",
    "# commit the changes\n",
    "conn.commit()\n",
    "\n",
    "#cur.execute('SELECT * FROM ways_tags')\n",
    "#all_rows = cur.fetchall()\n",
    "#print('1):')\n",
    "#pprint(all_rows)\n",
    "\n"
   ]
  },
  {
   "cell_type": "code",
   "execution_count": 84,
   "metadata": {},
   "outputs": [],
   "source": [
    "sqlite_file = 'hydsample.db'\n",
    "\n",
    "conn = sqlite3.connect(sqlite_file)\n",
    "cur = conn.cursor()\n",
    "\n",
    "cur.execute('DROP TABLE IF EXISTS nodes_tags')\n",
    "conn.commit()\n",
    "\n",
    "cur.execute(\"CREATE TABLE nodes_tags(id,key,value,type);\")\n",
    "with open ('nodes_tags.csv' , 'rb') as f:\n",
    "    dic = csv.DictReader(f)\n",
    "    to_db = [(i['id'].decode(\"utf-8\"),i['key'].decode(\"utf-8\"),i['value'].decode(\"utf-8\"),i['type'].decode(\"utf-8\"))\n",
    "            for i in dic]\n",
    "cur.executemany(\"INSERT INTO nodes_tags(id,key,value,type) VALUES (?,?,?,?);\" , to_db)\n",
    "conn.commit()"
   ]
  },
  {
   "cell_type": "code",
   "execution_count": 85,
   "metadata": {},
   "outputs": [
    {
     "name": "stdout",
     "output_type": "stream",
     "text": [
      "[(322808,)]\n"
     ]
    }
   ],
   "source": [
    "conn = sqlite3.connect(sqlite_file)\n",
    "cursor = conn.cursor()\n",
    "cursor.execute('''\n",
    "    SELECT COUNT(*) FROM nodes;\n",
    "''')\n",
    "results = cursor.fetchall()\n",
    "print results\n",
    "conn.close()\n"
   ]
  },
  {
   "cell_type": "markdown",
   "metadata": {},
   "source": [
    "There are 3222808 nodes"
   ]
  },
  {
   "cell_type": "code",
   "execution_count": 86,
   "metadata": {},
   "outputs": [
    {
     "name": "stdout",
     "output_type": "stream",
     "text": [
      "[(77012,)]\n"
     ]
    }
   ],
   "source": [
    "\n",
    "conn = sqlite3.connect(sqlite_file)\n",
    "cursor = conn.cursor()\n",
    "cursor.execute('''\n",
    "    SELECT COUNT(*) FROM ways;\n",
    "''')\n",
    "results = cursor.fetchall()\n",
    "print results\n",
    "conn.close()"
   ]
  },
  {
   "cell_type": "markdown",
   "metadata": {},
   "source": [
    "There are 77012 ways"
   ]
  },
  {
   "cell_type": "code",
   "execution_count": 87,
   "metadata": {},
   "outputs": [
    {
     "name": "stdout",
     "output_type": "stream",
     "text": [
      "[(571,)]\n"
     ]
    },
    {
     "data": {
      "text/plain": [
       "<function close>"
      ]
     },
     "execution_count": 87,
     "metadata": {},
     "output_type": "execute_result"
    }
   ],
   "source": [
    "conn = sqlite3.connect(sqlite_file)\n",
    "cursor = conn.cursor()\n",
    "cursor.execute('''\n",
    "    SELECT Count(DISTINCT both.user)\n",
    "    FROM (SELECT user FROM nodes\n",
    "    UNION ALL SELECT user FROM ways) as both;\n",
    "''')\n",
    "results = cursor.fetchall()\n",
    "print results\n",
    "conn.close"
   ]
  },
  {
   "cell_type": "markdown",
   "metadata": {},
   "source": [
    "There 571 distinct users."
   ]
  },
  {
   "cell_type": "code",
   "execution_count": 93,
   "metadata": {},
   "outputs": [
    {
     "name": "stdout",
     "output_type": "stream",
     "text": [
      "       0  1\n",
      "0  hindu  9\n"
     ]
    },
    {
     "data": {
      "text/plain": [
       "<function close>"
      ]
     },
     "execution_count": 93,
     "metadata": {},
     "output_type": "execute_result"
    }
   ],
   "source": [
    "import pandas as pd \n",
    "\n",
    "conn = sqlite3.connect(sqlite_file)\n",
    "cursor = conn.cursor()\n",
    "cursor.execute(''' SELECT value, COUNT(*) as num \n",
    "FROM (select value , key from nodes_tags UNION ALL select value, key from ways_tags)\n",
    "WHERE key='religion'\n",
    "GROUP BY value\n",
    "ORDER BY num DESC\n",
    "limit 10\n",
    ";\n",
    "''')\n",
    "cur.execute(QUERY)\n",
    "results = cur.fetchall()\n",
    "df = pd.DataFrame(results)\n",
    "print df\n",
    "conn.close"
   ]
  },
  {
   "cell_type": "code",
   "execution_count": 89,
   "metadata": {},
   "outputs": [
    {
     "name": "stdout",
     "output_type": "stream",
     "text": [
      "              0   1\n",
      "0  outside_city  27\n",
      "1        500038   5\n",
      "2        500032   4\n",
      "3        500028   3\n",
      "4        500047   3\n"
     ]
    },
    {
     "data": {
      "text/plain": [
       "<function close>"
      ]
     },
     "execution_count": 89,
     "metadata": {},
     "output_type": "execute_result"
    }
   ],
   "source": [
    "import pandas as pd \n",
    "\n",
    "conn = sqlite3.connect(sqlite_file)\n",
    "cursor = conn.cursor()\n",
    "cursor.execute('''\n",
    "    SELECT both.value, COUNT(*) as Total \n",
    "    FROM (SELECT * FROM nodes_tags UNION ALL \n",
    "    SELECT * FROM ways_tags) as both\n",
    "    WHERE both.key == 'postcode'\n",
    "    GROUP BY both.value\n",
    "    ORDER BY Total DESC\n",
    "    LIMIT 5;\n",
    "''')\n",
    "\n",
    "results = cursor.fetchall()\n",
    "df = pd.DataFrame(results)\n",
    "print df\n",
    "conn.close"
   ]
  },
  {
   "cell_type": "code",
   "execution_count": 90,
   "metadata": {},
   "outputs": [
    {
     "name": "stdout",
     "output_type": "stream",
     "text": [
      "        0  1\n",
      "0   hindu  1\n",
      "1   sunni  1\n",
      "2  united  1\n"
     ]
    },
    {
     "data": {
      "text/plain": [
       "<function close>"
      ]
     },
     "execution_count": 90,
     "metadata": {},
     "output_type": "execute_result"
    }
   ],
   "source": [
    "conn = sqlite3.connect(sqlite_file)\n",
    "cursor = conn.cursor()\n",
    "cursor.execute('''\n",
    "    SELECT value, COUNT(*) as Total \n",
    "    FROM nodes_tags\n",
    "    WHERE key == 'denomination'\n",
    "    GROUP BY value\n",
    "    ORDER BY Total DESC\n",
    "    LIMIT 5;\n",
    "''')\n",
    "\n",
    "results = cursor.fetchall()\n",
    "df = pd.DataFrame(results)\n",
    "print df\n",
    "conn.close"
   ]
  },
  {
   "cell_type": "code",
   "execution_count": 91,
   "metadata": {},
   "outputs": [
    {
     "name": "stdout",
     "output_type": "stream",
     "text": [
      "            0  1\n",
      "0      tennis  3\n",
      "1  basketball  2\n",
      "2   athletics  1\n",
      "3        golf  1\n",
      "4       multi  1\n"
     ]
    },
    {
     "data": {
      "text/plain": [
       "<function close>"
      ]
     },
     "execution_count": 91,
     "metadata": {},
     "output_type": "execute_result"
    }
   ],
   "source": [
    "conn = sqlite3.connect(sqlite_file)\n",
    "cursor = conn.cursor()\n",
    "cursor.execute('''\n",
    "    SELECT both.value, COUNT(*) as Total \n",
    "    FROM (SELECT * FROM nodes_tags UNION ALL \n",
    "    SELECT * FROM ways_tags) as both\n",
    "    WHERE both.key == 'sport'\n",
    "    GROUP BY both.value\n",
    "    ORDER BY Total DESC\n",
    "    LIMIT 5;\n",
    "''')\n",
    "\n",
    "results = cursor.fetchall()\n",
    "df = pd.DataFrame(results)\n",
    "print df\n",
    "conn.close"
   ]
  },
  {
   "cell_type": "code",
   "execution_count": 92,
   "metadata": {},
   "outputs": [
    {
     "name": "stdout",
     "output_type": "stream",
     "text": [
      "             0  1\n",
      "0     regional  5\n",
      "1       indian  4\n",
      "2  coffee_shop  2\n",
      "3      chicken  1\n",
      "4    ice_cream  1\n"
     ]
    },
    {
     "data": {
      "text/plain": [
       "<function close>"
      ]
     },
     "execution_count": 92,
     "metadata": {},
     "output_type": "execute_result"
    }
   ],
   "source": [
    "conn = sqlite3.connect(sqlite_file)\n",
    "cursor = conn.cursor()\n",
    "cursor.execute('''\n",
    "    SELECT both.value, COUNT(*) as Total \n",
    "    FROM (SELECT * FROM nodes_tags UNION ALL \n",
    "    SELECT * FROM ways_tags)\n",
    "    as both\n",
    "    WHERE both.key == 'cuisine'\n",
    "    GROUP BY both.value\n",
    "    ORDER BY Total DESC\n",
    "    LIMIT 5;\n",
    "''')\n",
    "\n",
    "results = cursor.fetchall()\n",
    "df = pd.DataFrame(results)\n",
    "print df\n",
    "conn.close"
   ]
  },
  {
   "cell_type": "code",
   "execution_count": 94,
   "metadata": {},
   "outputs": [
    {
     "name": "stdout",
     "output_type": "stream",
     "text": [
      "number of places : 7\n"
     ]
    }
   ],
   "source": [
    "QUERY ='''SELECT tags.value, COUNT(*) as count \n",
    "FROM (SELECT * FROM nodes_tags UNION ALL \n",
    "      SELECT * FROM ways_tags) tags\n",
    "WHERE tags.key LIKE '%city'\n",
    "GROUP BY tags.value\n",
    "ORDER BY count DESC;'''\n",
    "\n",
    "cur.execute(QUERY)\n",
    "all_cITIES = cur.fetchall()\n",
    "df = pd.DataFrame(all_cITIES)\n",
    "print \"number of places :\", len(df)"
   ]
  },
  {
   "cell_type": "code",
   "execution_count": 95,
   "metadata": {},
   "outputs": [
    {
     "name": "stdout",
     "output_type": "stream",
     "text": [
      "count      571.000000\n",
      "mean       700.210158\n",
      "std       2189.332352\n",
      "min          1.000000\n",
      "25%          1.000000\n",
      "50%          4.000000\n",
      "75%         37.500000\n",
      "max      14568.000000\n",
      "Name: 1, dtype: float64\n",
      "\n",
      "\n",
      "Total users: 399820\n"
     ]
    }
   ],
   "source": [
    "QUERY =''' SELECT user,count(user) from( select user from nodes UNION ALL select user from ways)\n",
    "GROUP BY user\n",
    "ORDER BY count(user)\n",
    "DESC;\n",
    "'''\n",
    "cur.execute(QUERY)\n",
    "all_unique_users = cur.fetchall()\n",
    "import pandas as pd\n",
    "df = pd. DataFrame(all_unique_users)\n",
    "print df[1].describe()\n",
    "print('\\n')\n",
    "print \"Total users:\" , df[1].sum()"
   ]
  },
  {
   "cell_type": "markdown",
   "metadata": {},
   "source": [
    "Advantages and Disadvantages : The main advantage is that Open Street Map data is open-source and therefore free to use. This means anyone can use the data to create their own maps (and then use services like Map Box to generate and host customised map tiles). This means the developer doesn't have to work within Google's constraints. The only imaginable downside to me is quality. Get me right, 99% is the good stuff, but as all crowd sourced data it's hard to maintain consistent quality control. Of course is free to alter and complete the data, but there's no guarantees as there would with a company behind it.\n"
   ]
  },
  {
   "cell_type": "markdown",
   "metadata": {},
   "source": [
    "Conclusion: After series of iterations in Auditing process, I believe that the data has been cleaned precisely and analysed well in exploration phase ."
   ]
  },
  {
   "cell_type": "code",
   "execution_count": null,
   "metadata": {
    "collapsed": true
   },
   "outputs": [],
   "source": []
  }
 ],
 "metadata": {
  "kernelspec": {
   "display_name": "Python [conda root]",
   "language": "python",
   "name": "conda-root-py"
  },
  "language_info": {
   "codemirror_mode": {
    "name": "ipython",
    "version": 2
   },
   "file_extension": ".py",
   "mimetype": "text/x-python",
   "name": "python",
   "nbconvert_exporter": "python",
   "pygments_lexer": "ipython2",
   "version": "2.7.13"
  }
 },
 "nbformat": 4,
 "nbformat_minor": 2
}
